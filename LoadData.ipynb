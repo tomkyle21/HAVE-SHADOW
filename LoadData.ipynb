{
 "cells": [
  {
   "cell_type": "code",
   "execution_count": 65,
   "metadata": {},
   "outputs": [],
   "source": [
    "import numpy as np\n",
    "import pandas as pd"
   ]
  },
  {
   "cell_type": "markdown",
   "metadata": {},
   "source": [
    "## Load Data"
   ]
  },
  {
   "cell_type": "code",
   "execution_count": 66,
   "metadata": {},
   "outputs": [],
   "source": [
    "# Define the constants for the scenario\n",
    "pilot = 'PILOT'\n",
    "flight = 'FLIGHT'\n",
    "lead_alt = 15000\n",
    "wing_alt = 10000\n",
    "CM_Airspeed = 150"
   ]
  },
  {
   "cell_type": "code",
   "execution_count": 67,
   "metadata": {},
   "outputs": [],
   "source": [
    "# Load all data sources from a given flight\n",
    "lead_data = pd.read_csv('Data/Lead/Lead_{}_{}.csv'.format(pilot, flight))\n",
    "wing_data = pd.read_csv('Data/Wingman/Wing_{}_{}.csv'.format(pilot, flight))\n",
    "cruise_data = pd.read_csv('Data/CruiseMissiles/CMs_{}_{}.csv'.format(pilot, flight))\n",
    "workload_data = pd.read_csv('Data/Workload/Workload_{}_{}.csv'.format(pilot, flight))\n",
    "# comm_data = pd.read_csv('Data/Comm/Comms_{}_{}.csv'.format(pilot, flight))\n",
    "# surface_data = pd.read_csv('Data/SurfaceThreats/SurfaceThreats_{}_{}.csv'.format(pilot, flight))"
   ]
  },
  {
   "cell_type": "markdown",
   "metadata": {},
   "source": [
    "## Define the Master DF"
   ]
  },
  {
   "cell_type": "code",
   "execution_count": 68,
   "metadata": {},
   "outputs": [],
   "source": [
    "Altitude_Col = 'Altitude_Msl'\n",
    "Airpseed_Col = 'True_Airspeed'\n",
    "cols_L29s = ['Timestamp', 'SampleDate', 'SampleTime', 'TestCard', 'True_Heading', 'Roll',\n",
    "        'Latitude', 'Longitude', 'Vertical_Speed', Altitude_Col, Airpseed_Col]\n",
    "cols_CMs = ['Timestamp', 'SampleDate', 'SampleTime', 'TestCard', 'DisSource',\n",
    "            'DisTime', 'Aplication', 'EntId', 'Latitude', 'Longitude']"
   ]
  },
  {
   "cell_type": "code",
   "execution_count": 71,
   "metadata": {},
   "outputs": [],
   "source": [
    "# Make sure Timestamp is sorted and in datetime format\n",
    "lead_data['Timestamp'] = pd.to_datetime(lead_data['Timestamp'])\n",
    "wing_data['Timestamp'] = pd.to_datetime(wing_data['Timestamp'])\n",
    "cruise_data['Timestamp'] = pd.to_datetime(cruise_data['Timestamp'])\n",
    "\n",
    "lead_data = lead_data.sort_values('Timestamp')\n",
    "wing_data = wing_data.sort_values('Timestamp')\n",
    "cruise_data = cruise_data.sort_values('Timestamp')\n",
    "\n",
    "# Merge wing onto lead (treat lead as \"truth\")\n",
    "# This is necessary since the lead aircraft is the primary source of data and the timest stamps may not match perfectly.\n",
    "sortie_df = pd.merge_asof(\n",
    "    lead_data[cols_L29s].sort_values('Timestamp'),\n",
    "    wing_data[cols_L29s].sort_values('Timestamp'),\n",
    "    on='Timestamp',\n",
    "    direction='nearest',\n",
    "    suffixes=('_Lead', '_Wing'),\n",
    "    tolerance=pd.Timedelta('50ms')  # adjust tolerance as needed\n",
    ")\n",
    "\n",
    "# Merge cruise missiles the same way\n",
    "sortie_df = pd.merge_asof(\n",
    "    sortie_df,\n",
    "    cruise_data[cols_CMs].sort_values('Timestamp'),\n",
    "    on='Timestamp',\n",
    "    direction='nearest',\n",
    "    suffixes=('', '_CM'),\n",
    "    tolerance=pd.Timedelta('50ms')\n",
    ")"
   ]
  },
  {
   "cell_type": "code",
   "execution_count": 72,
   "metadata": {},
   "outputs": [],
   "source": [
    "# add Cruise Missile meta data to sortie_df\n",
    "sortie_df['CM_Altitude_Lead'] = lead_alt\n",
    "sortie_df['CM_Altitude_Wing'] = wing_alt\n",
    "sortie_df['CM_Airspeed'] = CM_Airspeed"
   ]
  },
  {
   "cell_type": "markdown",
   "metadata": {},
   "source": [
    "## Begin Generating MOPs"
   ]
  },
  {
   "cell_type": "markdown",
   "metadata": {},
   "source": []
  }
 ],
 "metadata": {
  "kernelspec": {
   "display_name": "base",
   "language": "python",
   "name": "python3"
  },
  "language_info": {
   "codemirror_mode": {
    "name": "ipython",
    "version": 3
   },
   "file_extension": ".py",
   "mimetype": "text/x-python",
   "name": "python",
   "nbconvert_exporter": "python",
   "pygments_lexer": "ipython3",
   "version": "3.9.19"
  }
 },
 "nbformat": 4,
 "nbformat_minor": 2
}
