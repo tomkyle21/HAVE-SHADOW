{
 "cells": [
  {
   "cell_type": "code",
   "execution_count": 9,
   "metadata": {},
   "outputs": [],
   "source": [
    "import numpy as np\n",
    "import pandas as pd"
   ]
  },
  {
   "cell_type": "markdown",
   "metadata": {},
   "source": [
    "## Load Data"
   ]
  },
  {
   "cell_type": "code",
   "execution_count": 10,
   "metadata": {},
   "outputs": [],
   "source": [
    "# Define the constants for the scenario\n",
    "pilot = 'PILOT'\n",
    "flight = 'FLIGHT'\n",
    "lead_alt = 15000\n",
    "wing_alt = 10000\n",
    "CM_Airspeed = 150"
   ]
  },
  {
   "cell_type": "code",
   "execution_count": 11,
   "metadata": {},
   "outputs": [],
   "source": [
    "# Load all data sources from a given flight\n",
    "lead_data = pd.read_csv('Data/Lead/Lead_{}_{}.csv'.format(pilot, flight))\n",
    "wing_data = pd.read_csv('Data/Wingman/Wing_{}_{}.csv'.format(pilot, flight))\n",
    "cruise_data = pd.read_csv('Data/CruiseMissiles/CMs_{}_{}.csv'.format(pilot, flight))\n",
    "workload_data = pd.read_csv('Data/Workload/Workload_{}_{}.csv'.format(pilot, flight))\n",
    "# comm_data = pd.read_csv('Data/Comm/Comms_{}_{}.csv'.format(pilot, flight))\n",
    "# surface_data = pd.read_csv('Data/SurfaceThreats/SurfaceThreats_{}_{}.csv'.format(pilot, flight))"
   ]
  },
  {
   "cell_type": "markdown",
   "metadata": {},
   "source": [
    "## Define the Master DF"
   ]
  },
  {
   "cell_type": "code",
   "execution_count": 12,
   "metadata": {},
   "outputs": [],
   "source": [
    "Altitude_Col = 'Altitude_Msl'\n",
    "Airpseed_Col = 'True_Airspeed'\n",
    "cols_L29s = ['Timestamp', 'SampleDate', 'SampleTime', 'TestCard', 'True_Heading', 'Roll',\n",
    "        'Latitude', 'Longitude', 'Vertical_Speed', Altitude_Col, Airpseed_Col]\n",
    "cols_CMs = ['Timestamp', 'SampleDate', 'SampleTime', 'TestCard', 'DisSource',\n",
    "            'DisTime', 'Aplication', 'EntId', 'Latitude', 'Longitude', 'Heading']"
   ]
  },
  {
   "cell_type": "code",
   "execution_count": 13,
   "metadata": {},
   "outputs": [],
   "source": [
    "# Make sure Timestamp is sorted and in datetime format\n",
    "lead_data['Timestamp'] = pd.to_datetime(lead_data['Timestamp'])\n",
    "wing_data['Timestamp'] = pd.to_datetime(wing_data['Timestamp'])\n",
    "cruise_data['Timestamp'] = pd.to_datetime(cruise_data['Timestamp'])\n",
    "\n",
    "lead_data = lead_data.sort_values('Timestamp')\n",
    "wing_data = wing_data.sort_values('Timestamp')\n",
    "cruise_data = cruise_data.sort_values('Timestamp')\n",
    "\n",
    "# Merge wing onto lead (treat lead as \"truth\")\n",
    "# This is necessary since the lead aircraft is the primary source of data and the timest stamps may not match perfectly.\n",
    "sortie_df = pd.merge_asof(\n",
    "    lead_data[cols_L29s].sort_values('Timestamp'),\n",
    "    wing_data[cols_L29s].sort_values('Timestamp'),\n",
    "    on='Timestamp',\n",
    "    direction='nearest',\n",
    "    suffixes=('_Lead', '_Wing'),\n",
    "    tolerance=pd.Timedelta('50ms')  # adjust tolerance as needed\n",
    ")\n",
    "\n",
    "# Merge cruise missiles the same way\n",
    "sortie_df = pd.merge_asof(\n",
    "    sortie_df,\n",
    "    cruise_data[cols_CMs].sort_values('Timestamp'),\n",
    "    on='Timestamp',\n",
    "    direction='nearest',\n",
    "    suffixes=('', '_CM'),\n",
    "    tolerance=pd.Timedelta('50ms')\n",
    ")"
   ]
  },
  {
   "cell_type": "code",
   "execution_count": 14,
   "metadata": {},
   "outputs": [],
   "source": [
    "# add Cruise Missile meta data to sortie_df\n",
    "sortie_df['CM_Altitude_Lead'] = lead_alt\n",
    "sortie_df['CM_Altitude_Wing'] = wing_alt\n",
    "sortie_df['CM_Airspeed'] = CM_Airspeed"
   ]
  },
  {
   "cell_type": "markdown",
   "metadata": {},
   "source": [
    "## Define Intercepts"
   ]
  },
  {
   "cell_type": "code",
   "execution_count": 15,
   "metadata": {},
   "outputs": [
    {
     "data": {
      "text/plain": [
       "Index(['Timestamp', 'SampleDate_Lead', 'SampleTime_Lead', 'TestCard_Lead',\n",
       "       'True_Heading_Lead', 'Roll_Lead', 'Latitude_Lead', 'Longitude_Lead',\n",
       "       'Vertical_Speed_Lead', 'Altitude_Msl_Lead', 'True_Airspeed_Lead',\n",
       "       'SampleDate_Wing', 'SampleTime_Wing', 'TestCard_Wing',\n",
       "       'True_Heading_Wing', 'Roll_Wing', 'Latitude_Wing', 'Longitude_Wing',\n",
       "       'Vertical_Speed_Wing', 'Altitude_Msl_Wing', 'True_Airspeed_Wing',\n",
       "       'SampleDate', 'SampleTime', 'TestCard', 'DisSource', 'DisTime',\n",
       "       'Aplication', 'EntId', 'Latitude', 'Longitude', 'Heading',\n",
       "       'CM_Altitude_Lead', 'CM_Altitude_Wing', 'CM_Airspeed'],\n",
       "      dtype='object')"
      ]
     },
     "execution_count": 15,
     "metadata": {},
     "output_type": "execute_result"
    }
   ],
   "source": [
    "sortie_df.columns"
   ]
  },
  {
   "cell_type": "code",
   "execution_count": null,
   "metadata": {},
   "outputs": [],
   "source": [
    "def is_within_cone(df, role):\n",
    "    \"\"\"\n",
    "    Determine if an aircraft (lead/wingman) is within intercept criteria:\n",
    "      1) Bank angle within ±10°\n",
    "      2) Within 1.5 nm aft of CM\n",
    "      3) Within 30° trailing cone of CM velocity vector\n",
    "    \"\"\"\n",
    "\n",
    "    # --- Column definitions ---\n",
    "    roll_col = f'Roll_{role}'\n",
    "    lat_col = f'Latitude_{role}'\n",
    "    lon_col = f'Longitude_{role}'\n",
    "    alt_col = f'Altitude_{role}'\n",
    "    heading_col = f'True_Heading_{role}'\n",
    "\n",
    "    cm_lat_col = 'Latitude'\n",
    "    cm_lon_col = 'Longitude'\n",
    "    cm_alt_col = 'CM_Altitude'\n",
    "    cm_heading_col = 'Heading'   # you’ll need missile heading in your data\n",
    "\n",
    "    # --- CONDITION 1: Bank angle ---\n",
    "    cond1 = df[roll_col].abs() <= 10\n",
    "\n",
    "    # --- Convert to radians ---\n",
    "    lat_ac = np.radians(df[lat_col])\n",
    "    lon_ac = np.radians(df[lon_col])\n",
    "    lat_cm = np.radians(df[cm_lat_col])\n",
    "    lon_cm = np.radians(df[cm_lon_col])\n",
    "\n",
    "    # --- Approx Earth radius in nm ---\n",
    "    R = 3440.065\n",
    "\n",
    "    # --- ENU vector from CM → Aircraft (flat Earth approx for short ranges) ---\n",
    "    dlat = lat_ac - lat_cm\n",
    "    dlon = lon_ac - lon_cm\n",
    "    dx = R * np.cos(lat_cm) * dlon     # east displacement [nm]\n",
    "    dy = R * dlat                      # north displacement [nm]\n",
    "    dz = (df[alt_col] - df[cm_alt_col]) / 6076.12  # alt diff [nm]\n",
    "    vec_cm2ac = np.stack([dx, dy, dz], axis=1)\n",
    "\n",
    "    # --- Missile velocity vector from heading ---\n",
    "    cm_heading_rad = np.radians(df[cm_heading_col])\n",
    "    # assume level flight (no vertical velocity)\n",
    "    vx = np.sin(cm_heading_rad)\n",
    "    vy = np.cos(cm_heading_rad)\n",
    "    vz = 0.0\n",
    "    vec_cm_vel = np.stack([vx, vy, np.full_like(vx, vz)], axis=1)\n",
    "\n",
    "    # --- CONDITION 2: Aft + distance ---\n",
    "    dist = np.linalg.norm(vec_cm2ac, axis=1)   # straight-line dist [nm]\n",
    "    projection = np.sum(vec_cm2ac * vec_cm_vel, axis=1)\n",
    "    aft_mask = projection < 0                  # behind the CM\n",
    "    cond2 = (dist <= 1.5) & aft_mask\n",
    "\n",
    "    # --- CONDITION 3: Inside trailing cone ---\n",
    "    dot = np.sum(vec_cm2ac * vec_cm_vel, axis=1)\n",
    "    cos_angle = dot / (dist * np.linalg.norm(vec_cm_vel, axis=1))\n",
    "    cos_angle = np.clip(cos_angle, -1, 1)      # numerical safety\n",
    "    angle = np.degrees(np.arccos(cos_angle))\n",
    "    cond3 = angle <= 30\n",
    "\n",
    "    # --- CONDITION 4: Heading Sanity Check ---\n",
    "    heading_diff = np.abs(df[heading_col] - df[cm_heading_col])\n",
    "    heading_diff = np.where(heading_diff > 180, 360 - heading_diff, heading_diff)\n",
    "    cond4 = heading_diff <= 20\n",
    "\n",
    "    intercept_criteria = cond1 & cond2 & cond3 & cond4\n",
    "\n",
    "    # --- Combine all conditions ---\n",
    "    return intercept_criteria"
   ]
  },
  {
   "cell_type": "markdown",
   "metadata": {},
   "source": [
    "Mulltiple CMs ^^, timing / consent, checks for both, order of events .. ?"
   ]
  },
  {
   "cell_type": "markdown",
   "metadata": {},
   "source": []
  }
 ],
 "metadata": {
  "kernelspec": {
   "display_name": "base",
   "language": "python",
   "name": "python3"
  },
  "language_info": {
   "codemirror_mode": {
    "name": "ipython",
    "version": 3
   },
   "file_extension": ".py",
   "mimetype": "text/x-python",
   "name": "python",
   "nbconvert_exporter": "python",
   "pygments_lexer": "ipython3",
   "version": "3.9.19"
  }
 },
 "nbformat": 4,
 "nbformat_minor": 2
}
