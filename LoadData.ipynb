{
 "cells": [
  {
   "cell_type": "code",
   "execution_count": 25,
   "metadata": {},
   "outputs": [],
   "source": [
    "import numpy as np\n",
    "import pandas as pd"
   ]
  },
  {
   "cell_type": "markdown",
   "metadata": {},
   "source": [
    "## Load Data"
   ]
  },
  {
   "cell_type": "code",
   "execution_count": 26,
   "metadata": {},
   "outputs": [],
   "source": [
    "# Define the constants for the scenario\n",
    "pilot = 'PILOT'\n",
    "flight = 'FLIGHT'\n",
    "lead_alt = 15000\n",
    "wing_alt = 10000\n",
    "CM_Airspeed = 150"
   ]
  },
  {
   "cell_type": "code",
   "execution_count": 27,
   "metadata": {},
   "outputs": [],
   "source": [
    "# Load all data sources from a given flight\n",
    "lead_data = pd.read_csv('Data/Lead/Lead_{}_{}.csv'.format(pilot, flight))\n",
    "wing_data = pd.read_csv('Data/Wingman/Wing_{}_{}.csv'.format(pilot, flight))\n",
    "cruise_data = pd.read_csv('Data/CruiseMissiles/CMs_{}_{}.csv'.format(pilot, flight))\n",
    "workload_data = pd.read_csv('Data/Workload/Workload_{}_{}.csv'.format(pilot, flight))\n",
    "# comm_data = pd.read_csv('Data/Comm/Comms_{}_{}.csv'.format(pilot, flight))\n",
    "# surface_data = pd.read_csv('Data/SurfaceThreats/SurfaceThreats_{}_{}.csv'.format(pilot, flight))"
   ]
  },
  {
   "cell_type": "markdown",
   "metadata": {},
   "source": [
    "## Define the Master DF"
   ]
  },
  {
   "cell_type": "code",
   "execution_count": 28,
   "metadata": {},
   "outputs": [],
   "source": [
    "Altitude_Col = 'Altitude_Msl'\n",
    "Airpseed_Col = 'True_Airspeed'\n",
    "cols_L29s = ['Timestamp', 'SampleDate', 'SampleTime', 'TestCard', 'True_Heading', 'Roll',\n",
    "        'Latitude', 'Longitude', 'Vertical_Speed', Altitude_Col, Airpseed_Col]\n",
    "cols_CMs = ['Timestamp', 'SampleDate', 'SampleTime', 'TestCard', 'DisSource',\n",
    "            'DisTime', 'Aplication', 'EntId', 'Latitude', 'Longitude', 'Heading']"
   ]
  },
  {
   "cell_type": "code",
   "execution_count": 29,
   "metadata": {},
   "outputs": [],
   "source": [
    "# Make sure Timestamp is sorted and in datetime format\n",
    "lead_data['Timestamp'] = pd.to_datetime(lead_data['Timestamp'])\n",
    "wing_data['Timestamp'] = pd.to_datetime(wing_data['Timestamp'])\n",
    "cruise_data['Timestamp'] = pd.to_datetime(cruise_data['Timestamp'])\n",
    "\n",
    "lead_data = lead_data.sort_values('Timestamp')\n",
    "wing_data = wing_data.sort_values('Timestamp')\n",
    "cruise_data = cruise_data.sort_values('Timestamp')\n",
    "\n",
    "# Merge wing onto lead (treat lead as \"truth\")\n",
    "# This is necessary since the lead aircraft is the primary source of data and the timest stamps may not match perfectly.\n",
    "sortie_df = pd.merge_asof(\n",
    "    lead_data[cols_L29s].sort_values('Timestamp'),\n",
    "    wing_data[cols_L29s].sort_values('Timestamp'),\n",
    "    on='Timestamp',\n",
    "    direction='nearest',\n",
    "    suffixes=('_Lead', '_Wing'),\n",
    "    tolerance=pd.Timedelta('50ms')  # adjust tolerance as needed\n",
    ")\n",
    "\n",
    "# Merge cruise missiles the same way\n",
    "sortie_df = pd.merge_asof(\n",
    "    sortie_df,\n",
    "    cruise_data[cols_CMs].sort_values('Timestamp'),\n",
    "    on='Timestamp',\n",
    "    direction='nearest',\n",
    "    suffixes=('', '_CM'),\n",
    "    tolerance=pd.Timedelta('50ms')\n",
    ")"
   ]
  },
  {
   "cell_type": "code",
   "execution_count": 30,
   "metadata": {},
   "outputs": [],
   "source": [
    "# add Cruise Missile meta data to sortie_df\n",
    "sortie_df['CM_Altitude_Lead'] = lead_alt\n",
    "sortie_df['CM_Altitude_Wing'] = wing_alt\n",
    "sortie_df['CM_Airspeed'] = CM_Airspeed"
   ]
  },
  {
   "cell_type": "markdown",
   "metadata": {},
   "source": [
    "## Define Intercepts"
   ]
  },
  {
   "cell_type": "code",
   "execution_count": 31,
   "metadata": {},
   "outputs": [],
   "source": [
    "def is_within_cone(df, role):\n",
    "    \"\"\"\n",
    "    Determine if an aircraft (lead/wingman) is within intercept criteria:\n",
    "      1) Bank angle within ±10°\n",
    "      2) Within 1.5 nm aft of CM\n",
    "      3) Within 30° trailing cone of CM velocity vector\n",
    "    \"\"\"\n",
    "\n",
    "    # --- Column definitions ---\n",
    "    roll_col = f'Roll_{role}'\n",
    "    lat_col = f'Latitude_{role}'\n",
    "    lon_col = f'Longitude_{role}'\n",
    "    alt_col = f'Altitude_Msl_{role}'\n",
    "    heading_col = f'True_Heading_{role}'\n",
    "\n",
    "    cm_lat_col = 'Latitude'\n",
    "    cm_lon_col = 'Longitude'\n",
    "    cm_alt_col = f'CM_Altitude_{role}'\n",
    "    cm_heading_col = 'Heading'   # you’ll need missile heading in your data\n",
    "\n",
    "    # --- CONDITION 1: Bank angle ---\n",
    "    cond1 = df[roll_col].abs() <= 10\n",
    "\n",
    "    # --- Convert to radians ---\n",
    "    lat_ac = np.radians(df[lat_col])\n",
    "    lon_ac = np.radians(df[lon_col])\n",
    "    lat_cm = np.radians(df[cm_lat_col])\n",
    "    lon_cm = np.radians(df[cm_lon_col])\n",
    "\n",
    "    # --- Approx Earth radius in nm ---\n",
    "    R = 3440.065\n",
    "\n",
    "    # --- ENU vector from CM → Aircraft (flat Earth approx for short ranges) ---\n",
    "    dlat = lat_ac - lat_cm\n",
    "    dlon = lon_ac - lon_cm\n",
    "    dx = R * np.cos(lat_cm) * dlon     # east displacement [nm]\n",
    "    dy = R * dlat                      # north displacement [nm]\n",
    "    dz = (df[alt_col] - df[cm_alt_col]) / 6076.12  # alt diff [nm]\n",
    "    vec_cm2ac = np.stack([dx, dy, dz], axis=1)\n",
    "\n",
    "    # --- Missile velocity vector from heading ---\n",
    "    cm_heading_rad = np.radians(df[cm_heading_col])\n",
    "    # assume level flight (no vertical velocity)\n",
    "    vx = np.sin(cm_heading_rad)\n",
    "    vy = np.cos(cm_heading_rad)\n",
    "    vz = 0.0\n",
    "    vec_cm_vel = np.stack([vx, vy, np.full_like(vx, vz)], axis=1)\n",
    "\n",
    "    # --- CONDITION 2: Aft + distance ---\n",
    "    dist = np.linalg.norm(vec_cm2ac, axis=1)   # straight-line dist [nm]\n",
    "    projection = np.sum(vec_cm2ac * vec_cm_vel, axis=1)\n",
    "    aft_mask = projection < 0                  # behind the CM\n",
    "    cond2 = (dist <= 1.5) & aft_mask\n",
    "\n",
    "    # --- CONDITION 3: Inside trailing cone ---\n",
    "    dot = np.sum(vec_cm2ac * vec_cm_vel, axis=1)\n",
    "    cos_angle = dot / (dist * np.linalg.norm(vec_cm_vel, axis=1))\n",
    "    cos_angle = np.clip(cos_angle, -1, 1)      # numerical safety\n",
    "    angle = np.degrees(np.arccos(cos_angle))\n",
    "    cond3 = angle <= 30\n",
    "\n",
    "    # --- CONDITION 4: Heading Sanity Check ---\n",
    "    heading_diff = np.abs(df[heading_col] - df[cm_heading_col])\n",
    "    heading_diff = np.where(heading_diff > 180, 360 - heading_diff, heading_diff)\n",
    "    cond4 = heading_diff <= 20\n",
    "\n",
    "    intercept_criteria = cond1 & cond2 & cond3 & cond4\n",
    "\n",
    "    # --- Combine all conditions ---\n",
    "    return intercept_criteria"
   ]
  },
  {
   "cell_type": "code",
   "execution_count": 32,
   "metadata": {},
   "outputs": [],
   "source": [
    "sortie_df['Lead_Intercept'] = is_within_cone(sortie_df, 'Lead')\n",
    "sortie_df['Wing_Intercept'] = is_within_cone(sortie_df, 'Wing')"
   ]
  },
  {
   "cell_type": "markdown",
   "metadata": {},
   "source": [
    "## Define MOPs"
   ]
  },
  {
   "cell_type": "code",
   "execution_count": 33,
   "metadata": {},
   "outputs": [],
   "source": [
    "def altitude_deviation(df, role, lead_alt=lead_alt, wing_alt=wing_alt):\n",
    "    \"\"\"\n",
    "    Calculate altitude deviation from assigned altitude block.\n",
    "    \"\"\"\n",
    "    alt_col = f'Altitude_Msl_{role}'\n",
    "    assigned_alt = lead_alt if role == 'Lead' else wing_alt\n",
    "\n",
    "    # define a block of altitudes +- 1000ft from assigned altitude\n",
    "    alt_block_min = assigned_alt - 1000\n",
    "    alt_block_max = assigned_alt + 1000\n",
    "    \n",
    "    # create a column for altitude deviation\n",
    "    deviation = np.where(\n",
    "        df[alt_col] < alt_block_min,\n",
    "        alt_block_min - df[alt_col],\n",
    "        np.where(\n",
    "            df[alt_col] > alt_block_max,\n",
    "            df[alt_col] - alt_block_max,\n",
    "            0\n",
    "        )\n",
    "    )\n",
    "    \n",
    "    return deviation"
   ]
  },
  {
   "cell_type": "code",
   "execution_count": 34,
   "metadata": {},
   "outputs": [],
   "source": [
    "sortie_df['Lead_Alt_Dev'] = altitude_deviation(sortie_df, 'Lead', lead_alt=lead_alt)\n",
    "sortie_df['Wing_Alt_Dev'] = altitude_deviation(sortie_df, 'Wing', wing_alt=wing_alt)"
   ]
  },
  {
   "cell_type": "markdown",
   "metadata": {},
   "source": [
    "### Altitude Deviation"
   ]
  },
  {
   "cell_type": "code",
   "execution_count": 47,
   "metadata": {},
   "outputs": [],
   "source": [
    "# create a function that integrates the altitude deviation over time\n",
    "def integrate_altitude_deviation(df, role, time_start=None, time_end=None):\n",
    "    \"\"\"\n",
    "    Integrate altitude deviation over time to get total altitude deviation.\n",
    "    \"\"\"\n",
    "    alt_dev_col = f'{role}_Alt_Dev'\n",
    "    \n",
    "    # Calculate time difference in seconds\n",
    "    df_copy = df.copy()\n",
    "    time_start = pd.to_datetime(time_start) if time_start else None\n",
    "    time_end = pd.to_datetime(time_end) if time_end else None\n",
    "    if time_start is not None:\n",
    "        df_copy = df_copy[df_copy['Timestamp'] >= time_start]\n",
    "    if time_end is not None:\n",
    "        df_copy = df_copy[df_copy['Timestamp'] <= time_end]\n",
    "    df_copy = df_copy.sort_values('Timestamp')\n",
    "    df_copy['Time_Diff'] = df_copy['Timestamp'].diff().dt.total_seconds().fillna(0)\n",
    "    \n",
    "    # Integrate altitude deviation over time\n",
    "    integrated_dev = (df_copy[alt_dev_col] * df_copy['Time_Diff']).cumsum()\n",
    "\n",
    "    # only return the final value\n",
    "    if not integrated_dev.empty:\n",
    "        integrated_dev = integrated_dev.iloc[-1]\n",
    "    else:\n",
    "        integrated_dev = 0.0\n",
    "    \n",
    "    return integrated_dev"
   ]
  },
  {
   "cell_type": "code",
   "execution_count": 48,
   "metadata": {},
   "outputs": [
    {
     "data": {
      "text/plain": [
       "54481.92214825266"
      ]
     },
     "execution_count": 48,
     "metadata": {},
     "output_type": "execute_result"
    }
   ],
   "source": [
    "integrate_altitude_deviation(sortie_df, 'Lead')"
   ]
  },
  {
   "cell_type": "markdown",
   "metadata": {},
   "source": [
    "### Terminal Condition Error"
   ]
  },
  {
   "cell_type": "code",
   "execution_count": 53,
   "metadata": {},
   "outputs": [],
   "source": [
    "# define a function to calculate the terminal condition error for interception events \n",
    "def terminal_condition_error(df, role):\n",
    "    \"\"\"\n",
    "    Calculate terminal condition error for interception events.\n",
    "    \"\"\"\n",
    "    intercept_col = f'{role}_Intercept'\n",
    "    \n",
    "    # filter to only interception events\n",
    "    intercept_events = df[df[intercept_col]]\n",
    "    \n",
    "    # record the intercepting aircraft, its altitude, airspeed, and distance to CM at the moment of interception\n",
    "    if intercept_events.empty:\n",
    "        return None\n",
    "    else:\n",
    "        alt_col = f'Altitude_Msl_{role}'\n",
    "        airspeed_col = f'True_Airspeed_{role}'\n",
    "        \n",
    "        # Calculate distance to CM\n",
    "        R = 3440.065\n",
    "        lat_ac = np.radians(intercept_events[f'Latitude_{role}'])\n",
    "        lon_ac = np.radians(intercept_events[f'Longitude_{role}'])\n",
    "        lat_cm = np.radians(intercept_events['Latitude'])\n",
    "        lon_cm = np.radians(intercept_events['Longitude'])\n",
    "        dlat = lat_ac - lat_cm\n",
    "        dlon = lon_ac - lon_cm\n",
    "        dx = R * np.cos(lat_cm) * dlon\n",
    "        dy = R * dlat\n",
    "        dz = (intercept_events[alt_col] - intercept_events[f'CM_Altitude_{role}']) / 6076.12\n",
    "        distance_to_cm = np.sqrt(dx**2 + dy**2 + dz**2)\n",
    "        intercept_summary = pd.DataFrame({\n",
    "            'Timestamp': intercept_events['Timestamp'],\n",
    "            'Altitude': intercept_events[alt_col],\n",
    "            'Airspeed': intercept_events[airspeed_col],\n",
    "            'Distance_to_CM': distance_to_cm\n",
    "        })\n",
    "        return intercept_summary"
   ]
  },
  {
   "cell_type": "code",
   "execution_count": 54,
   "metadata": {},
   "outputs": [],
   "source": [
    "terminal_condition_error(sortie_df, 'Lead')"
   ]
  },
  {
   "cell_type": "markdown",
   "metadata": {},
   "source": [
    "Mulltiple CMs ^^, timing / consent, checks for both, order of events .., feed for both lead and wing .., times for scenario start / end ?"
   ]
  }
 ],
 "metadata": {
  "kernelspec": {
   "display_name": "base",
   "language": "python",
   "name": "python3"
  },
  "language_info": {
   "codemirror_mode": {
    "name": "ipython",
    "version": 3
   },
   "file_extension": ".py",
   "mimetype": "text/x-python",
   "name": "python",
   "nbconvert_exporter": "python",
   "pygments_lexer": "ipython3",
   "version": "3.9.19"
  }
 },
 "nbformat": 4,
 "nbformat_minor": 2
}
