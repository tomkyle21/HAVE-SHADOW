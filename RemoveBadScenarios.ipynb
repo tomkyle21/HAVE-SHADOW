{
 "cells": [
  {
   "cell_type": "code",
   "execution_count": 11,
   "metadata": {},
   "outputs": [],
   "source": [
    "import pandas as pd"
   ]
  },
  {
   "cell_type": "code",
   "execution_count": 12,
   "metadata": {},
   "outputs": [],
   "source": [
    "# request input from user for the Lead pilot's name and the flight number\n",
    "lead_pilot = input(\"Enter Lead pilot's name (Chan, Grimmer, Jacob): \")\n",
    "flight_number = input(\"Enter flight number: \")\n",
    "\n",
    "# Load data\n",
    "flight_data = pd.read_csv('Data/Lead/Lead_{}_{}.csv'.format(lead_pilot, flight_number), low_memory=False)\n",
    "lead_airspeed_data = pd.read_csv('Data/Lead/Lead_{}_{}_Airspeed.csv'.format(lead_pilot, flight_number), low_memory=False)\n",
    "wing_airpseed_data = pd.read_csv('Data/Wingman/Wing_{}_{}_Airspeed.csv'.format(lead_pilot, flight_number), low_memory=False)\n",
    "tasking_data = pd.read_csv('Data/Tasking/Tasking_{}_{}.csv'.format(lead_pilot, flight_number), low_memory=False)\n",
    "len_flight = len(flight_data)"
   ]
  },
  {
   "cell_type": "code",
   "execution_count": 13,
   "metadata": {},
   "outputs": [
    {
     "data": {
      "text/plain": [
       "Configuration  Scenario\n",
       "AA             D           28384\n",
       "HA             D           26553\n",
       "dtype: int64"
      ]
     },
     "execution_count": 13,
     "metadata": {},
     "output_type": "execute_result"
    }
   ],
   "source": [
    "flight_data[['Configuration', 'Scenario']].value_counts()"
   ]
  },
  {
   "cell_type": "code",
   "execution_count": 14,
   "metadata": {},
   "outputs": [],
   "source": [
    "# start_time = '14:13:45' # for Chuck's\n",
    "# end_time = '14:20:40'\n",
    "start_time = '14:58:30'\n",
    "end_time = '14:59:40'\n",
    "\n",
    "# convert to datetime\n",
    "start_time = pd.to_datetime(start_time, format='%H:%M:%S').time()\n",
    "end_time = pd.to_datetime(end_time, format='%H:%M:%S').time()"
   ]
  },
  {
   "cell_type": "code",
   "execution_count": 15,
   "metadata": {},
   "outputs": [
    {
     "data": {
      "text/plain": [
       "datetime.time(14, 58, 30)"
      ]
     },
     "execution_count": 15,
     "metadata": {},
     "output_type": "execute_result"
    }
   ],
   "source": [
    "start_time"
   ]
  },
  {
   "cell_type": "code",
   "execution_count": 16,
   "metadata": {},
   "outputs": [],
   "source": [
    "# in all dataframes, convert SampleTime to datetime\n",
    "flight_data['SampleTime'] = pd.to_datetime(flight_data['SampleTime'], format='%H:%M:%S.%f').dt.time\n",
    "lead_airspeed_data['SampleTime'] = pd.to_datetime(lead_airspeed_data['SampleTime'], format='%H:%M:%S.%f').dt.time\n",
    "wing_airpseed_data['SampleTime'] = pd.to_datetime(wing_airpseed_data['SampleTime'], format='%H:%M:%S.%f').dt.time\n",
    "tasking_data['SampleTime'] = pd.to_datetime(tasking_data['SampleTime'], format='%H:%M:%S.%f').dt.time"
   ]
  },
  {
   "cell_type": "code",
   "execution_count": 17,
   "metadata": {},
   "outputs": [
    {
     "data": {
      "text/plain": [
       "True"
      ]
     },
     "execution_count": 17,
     "metadata": {},
     "output_type": "execute_result"
    }
   ],
   "source": [
    "flight_data['SampleTime'].values[25] <= start_time"
   ]
  },
  {
   "cell_type": "code",
   "execution_count": 18,
   "metadata": {},
   "outputs": [
    {
     "name": "stdout",
     "output_type": "stream",
     "text": [
      "Retained 0.9739193535492678 proportion of flight data\n"
     ]
    }
   ],
   "source": [
    "# remove rows from all data sets where SampleTime is between start_time and end_time\n",
    "flight_data = flight_data[~((flight_data['SampleTime'] >= start_time) & (flight_data['SampleTime'] <= end_time))]\n",
    "lead_airspeed_data = lead_airspeed_data[~((lead_airspeed_data['SampleTime'] >= start_time) & (lead_airspeed_data['SampleTime'] <= end_time))]\n",
    "wing_airpseed_data = wing_airpseed_data[~((wing_airpseed_data['SampleTime'] >= start_time) & (wing_airpseed_data['SampleTime'] <= end_time))]\n",
    "tasking_data = tasking_data[~((tasking_data['SampleTime'] >= start_time) & (tasking_data['SampleTime'] <= end_time))]\n",
    "len_flight_new = len(flight_data)\n",
    "print(\"Retained {} proportion of flight data\".format(len_flight_new/len_flight))"
   ]
  },
  {
   "cell_type": "code",
   "execution_count": 19,
   "metadata": {},
   "outputs": [
    {
     "data": {
      "text/plain": [
       "Configuration  Scenario\n",
       "HA             D           26553\n",
       "AA             D           26377\n",
       "dtype: int64"
      ]
     },
     "execution_count": 19,
     "metadata": {},
     "output_type": "execute_result"
    }
   ],
   "source": [
    "flight_data[['Configuration', 'Scenario']].value_counts()"
   ]
  },
  {
   "cell_type": "code",
   "execution_count": 20,
   "metadata": {},
   "outputs": [
    {
     "name": "stdout",
     "output_type": "stream",
     "text": [
      "Data saved successfully.\n"
     ]
    }
   ],
   "source": [
    "# save all datraframes back to their original files\n",
    "flight_data.to_csv('Data/Lead/Lead_{}_{}.csv'.format(lead_pilot, flight_number), index=False)\n",
    "lead_airspeed_data.to_csv('Data/Lead/Lead_{}_{}_Airspeed.csv'.format(lead_pilot, flight_number), index=False)\n",
    "wing_airpseed_data.to_csv('Data/Wingman/Wing_{}_{}_Airspeed.csv'.format(lead_pilot, flight_number), index=False)\n",
    "tasking_data.to_csv('Data/Tasking/Tasking_{}_{}.csv'.format(lead_pilot, flight_number), index=False)\n",
    "print(\"Data saved successfully.\")"
   ]
  },
  {
   "cell_type": "code",
   "execution_count": null,
   "metadata": {},
   "outputs": [],
   "source": []
  }
 ],
 "metadata": {
  "kernelspec": {
   "display_name": "base",
   "language": "python",
   "name": "python3"
  },
  "language_info": {
   "codemirror_mode": {
    "name": "ipython",
    "version": 3
   },
   "file_extension": ".py",
   "mimetype": "text/x-python",
   "name": "python",
   "nbconvert_exporter": "python",
   "pygments_lexer": "ipython3",
   "version": "3.9.19"
  }
 },
 "nbformat": 4,
 "nbformat_minor": 2
}
